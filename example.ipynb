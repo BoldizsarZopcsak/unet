{
 "cells": [
  {
   "cell_type": "markdown",
   "metadata": {},
   "source": [
    "# U-Net\n",
    "\n",
    "Simple U-Net implementation in pytorch.\n",
    "\n",
    "See [Ronneberger, et al.: U-Net: Convolutional Networks for Biomedical Image Segmentation (2015), arXiv: 1505.04597 \\[cs.CV\\]](https://arxiv.org/pdf/1505.04597.pdf)\n",
    "for more information.\n",
    "\n",
    "[MIT License](LICENSE.md)"
   ]
  },
  {
   "cell_type": "markdown",
   "metadata": {},
   "source": [
    "## Example usage\n",
    "\n",
    "Create a basic U-Net, as specified in the research paper. See the docs for customization options."
   ]
  },
  {
   "cell_type": "code",
   "execution_count": null,
   "metadata": {},
   "outputs": [],
   "source": [
    "import torch\n",
    "import torch.nn.functional as F\n",
    "\n",
    "from src.unet import UNet"
   ]
  },
  {
   "cell_type": "markdown",
   "metadata": {},
   "source": [
    "Select training device (CPU or GPU)."
   ]
  },
  {
   "cell_type": "code",
   "execution_count": null,
   "metadata": {},
   "outputs": [],
   "source": [
    "dev = torch.device('cuda' if torch.cuda.is_available() else 'cpu')\n",
    "\n",
    "if not torch.cuda.is_available():\n",
    "    print(\"Consider using a GPU if possible to accelerate training\")"
   ]
  },
  {
   "cell_type": "markdown",
   "metadata": {},
   "source": [
    "Create a U-Net instance, taking a RGB image (3 channels) and outputting a 2 channel image, corresponding to two segmentation classes."
   ]
  },
  {
   "cell_type": "code",
   "execution_count": null,
   "metadata": {},
   "outputs": [],
   "source": [
    "net = UNet(in_channels=3, out_channels=2).to(dev)"
   ]
  },
  {
   "cell_type": "markdown",
   "metadata": {},
   "source": [
    "Generate a random `512x512` RGB image.\n",
    "\n",
    "Batches are specified as `(NxCxHxW)`, where:\n",
    "* `N` is the batch size\n",
    "* `C` is the amount of channels\n",
    "* `HxW` are the image dimensions"
   ]
  },
  {
   "cell_type": "code",
   "execution_count": null,
   "metadata": {},
   "outputs": [],
   "source": [
    "img = torch.rand((1, 3, 512, 521)).to(dev)"
   ]
  },
  {
   "cell_type": "markdown",
   "metadata": {},
   "source": [
    "Feed the image into the U-Net, calculate a random Binary Cross Entropy loss and backpropagate."
   ]
  },
  {
   "cell_type": "code",
   "execution_count": null,
   "metadata": {},
   "outputs": [],
   "source": [
    "out = net(img)\n",
    "target = torch.empty_like(out).random_(2).to(dev)\n",
    "\n",
    "loss = F.binary_cross_entropy_with_logits(out, target)\n",
    "loss.backward()\n",
    "net.zero_grad()"
   ]
  }
 ],
 "metadata": {
  "kernelspec": {
   "display_name": "torch",
   "language": "python",
   "name": "torch"
  },
  "language_info": {
   "codemirror_mode": {
    "name": "ipython",
    "version": 3
   },
   "file_extension": ".py",
   "mimetype": "text/x-python",
   "name": "python",
   "nbconvert_exporter": "python",
   "pygments_lexer": "ipython3",
   "version": "3.8.3"
  }
 },
 "nbformat": 4,
 "nbformat_minor": 4
}
